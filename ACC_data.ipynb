{
 "cells": [
  {
   "cell_type": "code",
   "execution_count": 30,
   "metadata": {},
   "outputs": [],
   "source": [
    "import matplotlib.pyplot as plt\n",
    "import nltk\n",
    "import numpy as np\n",
    "import re \n",
    "import pandas as pd\n",
    "import string\n",
    "import seaborn as sns"
   ]
  },
  {
   "cell_type": "code",
   "execution_count": 31,
   "metadata": {},
   "outputs": [],
   "source": [
    "data=pd.read_csv('Customer_Master_MERGED_2019_2021.csv')"
   ]
  },
  {
   "cell_type": "code",
   "execution_count": 32,
   "metadata": {},
   "outputs": [
    {
     "data": {
      "text/html": [
       "<div>\n",
       "<style scoped>\n",
       "    .dataframe tbody tr th:only-of-type {\n",
       "        vertical-align: middle;\n",
       "    }\n",
       "\n",
       "    .dataframe tbody tr th {\n",
       "        vertical-align: top;\n",
       "    }\n",
       "\n",
       "    .dataframe thead th {\n",
       "        text-align: right;\n",
       "    }\n",
       "</style>\n",
       "<table border=\"1\" class=\"dataframe\">\n",
       "  <thead>\n",
       "    <tr style=\"text-align: right;\">\n",
       "      <th></th>\n",
       "      <th>Acronym</th>\n",
       "      <th>School</th>\n",
       "      <th>Status</th>\n",
       "      <th>Status2</th>\n",
       "      <th>Country</th>\n",
       "      <th>Region</th>\n",
       "      <th>UCC</th>\n",
       "      <th>Contact</th>\n",
       "      <th>Contact.1</th>\n",
       "      <th>Email</th>\n",
       "      <th>...</th>\n",
       "      <th>Agreement Sent</th>\n",
       "      <th>Agreement received</th>\n",
       "      <th>Debtor Created in FinanceOne? Debtor Code if completed</th>\n",
       "      <th>Invoice Requested? Invoice number if completed</th>\n",
       "      <th>Cost</th>\n",
       "      <th>GST</th>\n",
       "      <th>Service Request No</th>\n",
       "      <th>System Details</th>\n",
       "      <th>Accounts Released</th>\n",
       "      <th>Comments</th>\n",
       "    </tr>\n",
       "  </thead>\n",
       "  <tbody>\n",
       "    <tr>\n",
       "      <th>0</th>\n",
       "      <td>SISO</td>\n",
       "      <td>(SISO) Suzhou Industrial Park Institute of Ser...</td>\n",
       "      <td>In Progress</td>\n",
       "      <td>Contract sent</td>\n",
       "      <td>China</td>\n",
       "      <td>3.0</td>\n",
       "      <td>Magdeburg</td>\n",
       "      <td>0</td>\n",
       "      <td>0</td>\n",
       "      <td>0</td>\n",
       "      <td>...</td>\n",
       "      <td>00-January-1900</td>\n",
       "      <td>00-January-1900</td>\n",
       "      <td>0</td>\n",
       "      <td>0</td>\n",
       "      <td>$0.00</td>\n",
       "      <td>0</td>\n",
       "      <td>0</td>\n",
       "      <td>0</td>\n",
       "      <td>0</td>\n",
       "      <td>0</td>\n",
       "    </tr>\n",
       "    <tr>\n",
       "      <th>1</th>\n",
       "      <td>ADAM</td>\n",
       "      <td>Adamson University</td>\n",
       "      <td>Completed</td>\n",
       "      <td>Systems Released</td>\n",
       "      <td>Philippines</td>\n",
       "      <td>3.0</td>\n",
       "      <td>Magdeburg</td>\n",
       "      <td>0</td>\n",
       "      <td>0</td>\n",
       "      <td>0</td>\n",
       "      <td>...</td>\n",
       "      <td>15-October-2019</td>\n",
       "      <td>23-November-2019</td>\n",
       "      <td>ADAUNI.01</td>\n",
       "      <td>ARI078280</td>\n",
       "      <td>$5,000.00</td>\n",
       "      <td>F</td>\n",
       "      <td>Completed</td>\n",
       "      <td>6000014338</td>\n",
       "      <td>(M29/268)</td>\n",
       "      <td>Yes</td>\n",
       "    </tr>\n",
       "    <tr>\n",
       "      <th>2</th>\n",
       "      <td>AMAES</td>\n",
       "      <td>AMA Computer University</td>\n",
       "      <td>Initial Stage</td>\n",
       "      <td>New Initial contact sent CC Crispian</td>\n",
       "      <td>Philippines</td>\n",
       "      <td>3.0</td>\n",
       "      <td>Magdeburg</td>\n",
       "      <td>0</td>\n",
       "      <td>0</td>\n",
       "      <td>0</td>\n",
       "      <td>...</td>\n",
       "      <td>00-January-1900</td>\n",
       "      <td>00-January-1900</td>\n",
       "      <td>0</td>\n",
       "      <td>0</td>\n",
       "      <td>$0.00</td>\n",
       "      <td>0</td>\n",
       "      <td>0</td>\n",
       "      <td>0</td>\n",
       "      <td>0</td>\n",
       "      <td>0</td>\n",
       "    </tr>\n",
       "    <tr>\n",
       "      <th>3</th>\n",
       "      <td>AUF</td>\n",
       "      <td>Angeles University Foundation, College of Comp...</td>\n",
       "      <td>Completed</td>\n",
       "      <td>Systems Released</td>\n",
       "      <td>Philippines</td>\n",
       "      <td>3.0</td>\n",
       "      <td>Magdeburg</td>\n",
       "      <td>0</td>\n",
       "      <td>0</td>\n",
       "      <td>0</td>\n",
       "      <td>...</td>\n",
       "      <td>26-June-2019</td>\n",
       "      <td>26-July-2019</td>\n",
       "      <td>ANGUNI.01</td>\n",
       "      <td>ARI076960</td>\n",
       "      <td>$5,000.00</td>\n",
       "      <td>F</td>\n",
       "      <td>Completed</td>\n",
       "      <td>6000013647</td>\n",
       "      <td>(M29/201,202)</td>\n",
       "      <td>Yes</td>\n",
       "    </tr>\n",
       "    <tr>\n",
       "      <th>4</th>\n",
       "      <td>APC</td>\n",
       "      <td>Asia Pacific College</td>\n",
       "      <td>Completed</td>\n",
       "      <td>Systems Released</td>\n",
       "      <td>Philippines</td>\n",
       "      <td>3.0</td>\n",
       "      <td>Magdeburg</td>\n",
       "      <td>0</td>\n",
       "      <td>0</td>\n",
       "      <td>0</td>\n",
       "      <td>...</td>\n",
       "      <td>03-July-2019</td>\n",
       "      <td>31-July-2019</td>\n",
       "      <td>ASIPAC.06</td>\n",
       "      <td>ARI076963</td>\n",
       "      <td>$7,500.00</td>\n",
       "      <td>F</td>\n",
       "      <td>Completed</td>\n",
       "      <td>6000013663</td>\n",
       "      <td>(m29/219)(I16/950)(R42/104)(H22/D00)</td>\n",
       "      <td>Yes</td>\n",
       "    </tr>\n",
       "  </tbody>\n",
       "</table>\n",
       "<p>5 rows × 24 columns</p>\n",
       "</div>"
      ],
      "text/plain": [
       "  Acronym                                             School          Status  \\\n",
       "0    SISO  (SISO) Suzhou Industrial Park Institute of Ser...     In Progress   \n",
       "1    ADAM                                 Adamson University       Completed   \n",
       "2   AMAES                            AMA Computer University  Initial Stage    \n",
       "3     AUF  Angeles University Foundation, College of Comp...       Completed   \n",
       "4     APC                               Asia Pacific College       Completed   \n",
       "\n",
       "                                Status2      Country  Region        UCC  \\\n",
       "0                         Contract sent        China     3.0  Magdeburg   \n",
       "1                      Systems Released  Philippines     3.0  Magdeburg   \n",
       "2  New Initial contact sent CC Crispian  Philippines     3.0  Magdeburg   \n",
       "3                      Systems Released  Philippines     3.0  Magdeburg   \n",
       "4                      Systems Released  Philippines     3.0  Magdeburg   \n",
       "\n",
       "  Contact Contact.1 Email  ...   Agreement Sent Agreement received  \\\n",
       "0       0         0     0  ...  00-January-1900    00-January-1900   \n",
       "1       0         0     0  ...  15-October-2019   23-November-2019   \n",
       "2       0         0     0  ...  00-January-1900    00-January-1900   \n",
       "3       0         0     0  ...     26-June-2019       26-July-2019   \n",
       "4       0         0     0  ...     03-July-2019       31-July-2019   \n",
       "\n",
       "  Debtor Created in FinanceOne? Debtor Code if completed  \\\n",
       "0                                                  0       \n",
       "1                                          ADAUNI.01       \n",
       "2                                                  0       \n",
       "3                                          ANGUNI.01       \n",
       "4                                          ASIPAC.06       \n",
       "\n",
       "  Invoice Requested? Invoice number if completed       Cost GST  \\\n",
       "0                                              0      $0.00   0   \n",
       "1                                      ARI078280  $5,000.00   F   \n",
       "2                                              0      $0.00   0   \n",
       "3                                      ARI076960  $5,000.00   F   \n",
       "4                                      ARI076963  $7,500.00   F   \n",
       "\n",
       "  Service Request No  System Details                     Accounts Released  \\\n",
       "0                   0              0                                     0   \n",
       "1           Completed     6000014338                             (M29/268)   \n",
       "2                   0              0                                     0   \n",
       "3           Completed     6000013647                         (M29/201,202)   \n",
       "4           Completed     6000013663  (m29/219)(I16/950)(R42/104)(H22/D00)   \n",
       "\n",
       "  Comments  \n",
       "0        0  \n",
       "1      Yes  \n",
       "2        0  \n",
       "3      Yes  \n",
       "4      Yes  \n",
       "\n",
       "[5 rows x 24 columns]"
      ]
     },
     "execution_count": 32,
     "metadata": {},
     "output_type": "execute_result"
    }
   ],
   "source": [
    "data.head()"
   ]
  },
  {
   "cell_type": "code",
   "execution_count": 33,
   "metadata": {},
   "outputs": [
    {
     "name": "stdout",
     "output_type": "stream",
     "text": [
      "386\n"
     ]
    }
   ],
   "source": [
    "num_rows = len(data)\n",
    "print(num_rows)"
   ]
  },
  {
   "cell_type": "code",
   "execution_count": 34,
   "metadata": {},
   "outputs": [
    {
     "data": {
      "text/plain": [
       "(386, 24)"
      ]
     },
     "execution_count": 34,
     "metadata": {},
     "output_type": "execute_result"
    }
   ],
   "source": [
    "data.shape"
   ]
  },
  {
   "cell_type": "code",
   "execution_count": 35,
   "metadata": {},
   "outputs": [],
   "source": [
    "temp_data=data"
   ]
  },
  {
   "cell_type": "code",
   "execution_count": 36,
   "metadata": {},
   "outputs": [
    {
     "name": "stdout",
     "output_type": "stream",
     "text": [
      "    Acronym                             School     Status            Status2  \\\n",
      "192     USA      University of South Australia  Completed  Contract Received   \n",
      "6       AUT  Auckland University of Technology  Completed   Systems Released   \n",
      "\n",
      "         Country  Region        UCC Contact Contact.1 Email  ...  \\\n",
      "192    Australia     NaN  Magdeburg       0       NaN     0  ...   \n",
      "6    New Zealand     3.0  Magdeburg       0         0     0  ...   \n",
      "\n",
      "    Agreement Sent Agreement received  \\\n",
      "192          43969              44008   \n",
      "6     03-July-2019       05-July-2019   \n",
      "\n",
      "    Debtor Created in FinanceOne? Debtor Code if completed  \\\n",
      "192                                          UNISOU.14       \n",
      "6                                            AUCUNI.04       \n",
      "\n",
      "    Invoice Requested? Invoice number if completed       Cost GST  \\\n",
      "192                                      ARI079348       7500   C   \n",
      "6                                        ARI076787  $5,000.00   F   \n",
      "\n",
      "    Service Request No  System Details Accounts Released Comments  \n",
      "192                 NaN            NaN               NaN        0  \n",
      "6             Completed     6000013563         (M28/282)      Yes  \n",
      "\n",
      "[2 rows x 24 columns]\n"
     ]
    }
   ],
   "source": [
    "print(temp_data.loc[[192,6]])"
   ]
  },
  {
   "cell_type": "code",
   "execution_count": 37,
   "metadata": {},
   "outputs": [],
   "source": [
    "temp_data.loc[temp_data['Country'] == 'Australia', 'Region'] = 3"
   ]
  },
  {
   "cell_type": "code",
   "execution_count": 38,
   "metadata": {},
   "outputs": [
    {
     "name": "stdout",
     "output_type": "stream",
     "text": [
      "    Acronym                             School     Status            Status2  \\\n",
      "192     USA      University of South Australia  Completed  Contract Received   \n",
      "6       AUT  Auckland University of Technology  Completed   Systems Released   \n",
      "\n",
      "         Country  Region        UCC Contact Contact.1 Email  ...  \\\n",
      "192    Australia     3.0  Magdeburg       0       NaN     0  ...   \n",
      "6    New Zealand     3.0  Magdeburg       0         0     0  ...   \n",
      "\n",
      "    Agreement Sent Agreement received  \\\n",
      "192          43969              44008   \n",
      "6     03-July-2019       05-July-2019   \n",
      "\n",
      "    Debtor Created in FinanceOne? Debtor Code if completed  \\\n",
      "192                                          UNISOU.14       \n",
      "6                                            AUCUNI.04       \n",
      "\n",
      "    Invoice Requested? Invoice number if completed       Cost GST  \\\n",
      "192                                      ARI079348       7500   C   \n",
      "6                                        ARI076787  $5,000.00   F   \n",
      "\n",
      "    Service Request No  System Details Accounts Released Comments  \n",
      "192                 NaN            NaN               NaN        0  \n",
      "6             Completed     6000013563         (M28/282)      Yes  \n",
      "\n",
      "[2 rows x 24 columns]\n"
     ]
    }
   ],
   "source": [
    "print(temp_data.loc[[192,6]])"
   ]
  }
 ],
 "metadata": {
  "kernelspec": {
   "display_name": "Python 3",
   "language": "python",
   "name": "python3"
  },
  "language_info": {
   "codemirror_mode": {
    "name": "ipython",
    "version": 3
   },
   "file_extension": ".py",
   "mimetype": "text/x-python",
   "name": "python",
   "nbconvert_exporter": "python",
   "pygments_lexer": "ipython3",
   "version": "3.8.5"
  }
 },
 "nbformat": 4,
 "nbformat_minor": 4
}
